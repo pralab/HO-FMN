{
 "cells": [
  {
   "cell_type": "markdown",
   "metadata": {},
   "source": [
    "# HO-FMN: Hyperparameter Optimization for Fast Minimum-Norm Attacks"
   ]
  },
  {
   "cell_type": "code",
   "execution_count": 1,
   "metadata": {
    "ExecuteTime": {
     "end_time": "2024-02-20T13:32:12.045752100Z",
     "start_time": "2024-02-20T13:32:00.302327100Z"
    }
   },
   "outputs": [],
   "source": [
    "import torch\n",
    "from torch.utils.data import DataLoader\n",
    "\n",
    "from src.ho_fmn.ho_fmn import HOFMN\n",
    "from src.attacks.fmn import FMN\n",
    "\n",
    "from src.utils.model_data import load_data\n",
    "from src.utils.model_data import print_models_info\n",
    "from src.utils.fmn_config import print_fmn_configs\n",
    "from src.utils.show_image import show_image\n",
    "\n",
    "device = torch.device('cuda') if torch.cuda.is_available() else torch.device('cpu')"
   ]
  },
  {
   "cell_type": "markdown",
   "source": [
    "Execute the next cell to see the list of all the currently available models, losses, optimizers and schedulers on which HO-FMN has been tested."
   ],
   "metadata": {
    "collapsed": false
   }
  },
  {
   "cell_type": "code",
   "execution_count": 2,
   "metadata": {
    "ExecuteTime": {
     "end_time": "2024-02-20T13:32:24.716473100Z",
     "start_time": "2024-02-20T13:32:24.695146Z"
    }
   },
   "outputs": [
    {
     "name": "stdout",
     "output_type": "stream",
     "text": [
      "Model ID\tName\n",
      "0\t\t\tWang2023Better_WRN-70-16\n",
      "1\t\t\tWang2023Better_WRN-28-10\n",
      "2\t\t\tGowal2021Improving_70_16_ddpm_100m\n",
      "3\t\t\tRebuffi2021Fixing_106_16_cutmix_ddpm\n",
      "4\t\t\tGowal2021Improving_28_10_ddpm_100m\n",
      "5\t\t\tPang2022Robustness_WRN70_16\n",
      "6\t\t\tSehwag2021Proxy_ResNest152\n",
      "7\t\t\tPang2022Robustness_WRN28_10\n",
      "8\t\t\tGowal2021Improving_R18_ddpm_100m\n",
      "9\t\t\tRade2021Helper_R18_ddpm\n",
      "10\t\t\tSehwag2021Proxy_R18\n",
      "11\t\t\tRebuffi2021Fixing_R18_ddpm\n",
      "\n",
      "Losses:\n",
      "\tLL\n",
      "\tDLR\n",
      "\tCE\n",
      "Optimizers:\n",
      "\tSGD\n",
      "\tAdam\n",
      "\tAdamax\n",
      "Schedulers:\n",
      "\tCALR\n",
      "\tRLROP\n"
     ]
    }
   ],
   "source": [
    "print_models_info()\n",
    "print_fmn_configs()"
   ]
  },
  {
   "cell_type": "markdown",
   "source": [
    "Let's choose a lightweight model for this demo (e.g. model 8, Gowal2021Improving_R18_ddpm_100m). When can compute its performance in classifying clean (unperturbed) samples."
   ],
   "metadata": {
    "collapsed": false
   }
  },
  {
   "cell_type": "code",
   "outputs": [
    {
     "name": "stdout",
     "output_type": "stream",
     "text": [
      "Files already downloaded and verified\n"
     ]
    }
   ],
   "source": [
    "model_id = 8\n",
    "batch_size = 32\n",
    "\n",
    "model, dataset, model_name, _ = load_data(model_id=model_id)\n",
    "dataloader = DataLoader(\n",
    "    dataset,\n",
    "    batch_size=batch_size,\n",
    "    shuffle=False\n",
    ")"
   ],
   "metadata": {
    "collapsed": false,
    "ExecuteTime": {
     "end_time": "2024-02-20T13:32:28.604008200Z",
     "start_time": "2024-02-20T13:32:27.638022300Z"
    }
   },
   "execution_count": 3
  },
  {
   "cell_type": "markdown",
   "metadata": {},
   "source": [
    "## Compute clean accuracy\n",
    "Testing the model's performance with clean (unperturbed) samples"
   ]
  },
  {
   "cell_type": "code",
   "execution_count": 4,
   "metadata": {
    "ExecuteTime": {
     "end_time": "2024-02-20T13:32:37.697380600Z",
     "start_time": "2024-02-20T13:32:30.215673Z"
    }
   },
   "outputs": [
    {
     "name": "stdout",
     "output_type": "stream",
     "text": [
      "Model name: Gowal2021Improving_R18_ddpm_100m\n",
      "Clean accuracy: 0.8828\n"
     ]
    }
   ],
   "source": [
    "total, correct = 0.0, 0.0\n",
    "for b, (inputs, labels) in enumerate(dataloader):\n",
    "    inputs, labels = inputs.to(device), labels.to(device)\n",
    "    pred = model(inputs).argmax(1)\n",
    "    total += labels.shape[0]\n",
    "    correct += (pred == labels).sum()\n",
    "    if total >= 1000:\n",
    "        break\n",
    "\n",
    "print(f\"Model name: {model_name}\")\n",
    "print(f\"Clean accuracy: {correct/total:.4f}\")"
   ]
  },
  {
   "cell_type": "markdown",
   "metadata": {},
   "source": [
    "## HO-FMN in action\n",
    "We firstly instantiate the HO-FMN tuner object, it will take the model, a configuration in terms of Loss-Optimizer-Scheduler as input; as well as the batch size, the number of HO trials etc.\n"
   ]
  },
  {
   "cell_type": "code",
   "execution_count": 5,
   "metadata": {
    "ExecuteTime": {
     "end_time": "2024-02-20T13:32:43.257036400Z",
     "start_time": "2024-02-20T13:32:43.238133400Z"
    }
   },
   "outputs": [],
   "source": [
    "loss = 'DLR'        # Difference of Logits Ratio\n",
    "optimizer = 'SGD'   # Stochastic Gradient Descent\n",
    "scheduler = 'CALR'  # Cosine Annealing Learning Rate\n",
    "\n",
    "batch_size = 32     # Size of a single batch\n",
    "steps = 100         # The number of FMN's iterations\n",
    "trials = 10         # Number of HO optimization trials\n",
    "\n",
    "'''\n",
    "HO-FMN performs N = trials number of attacks; the final number of samples that are used for the optimization\n",
    "are TUNING_SAMPLES = trials * batch_size (e.g., 64*32 = 2048 tuning samples).\n",
    "'''\n",
    "\n",
    "ho_fmn = HOFMN(\n",
    "    model=model,\n",
    "    dataloader=dataloader,\n",
    "    loss=loss,\n",
    "    optimizer=optimizer,\n",
    "    scheduler=scheduler,\n",
    "    steps=steps,\n",
    "    trials=trials,\n",
    "    verbose=True,\n",
    "    device=device\n",
    ")"
   ]
  },
  {
   "cell_type": "markdown",
   "source": [
    "Then we start the HO tuning process by calling the tune() method. The tuner, after completing the process, will return a dictionary containing all the best parameters found."
   ],
   "metadata": {
    "collapsed": false
   }
  },
  {
   "cell_type": "code",
   "outputs": [
    {
     "name": "stderr",
     "output_type": "stream",
     "text": [
      "[INFO 02-20 14:32:46] ax.service.ax_client: Starting optimization with verbose logging. To disable logging, set the `verbose_logging` argument to `False`. Note that float values in the logs are rounded to 6 decimal points.\n",
      "[INFO 02-20 14:32:46] ax.service.utils.instantiation: Created search space: SearchSpace(parameters=[RangeParameter(name='lr', parameter_type=FLOAT, range=[0.03137254901960784, 10.0], log_scale=True), RangeParameter(name='momentum', parameter_type=FLOAT, range=[0.0, 0.9]), RangeParameter(name='weight_decay', parameter_type=FLOAT, range=[0.01, 1.0]), RangeParameter(name='dampening', parameter_type=FLOAT, range=[0.0, 0.2]), FixedParameter(name='T_max', parameter_type=INT, value=100), FixedParameter(name='eta_min', parameter_type=INT, value=0), FixedParameter(name='last_epoch', parameter_type=INT, value=-1)], parameter_constraints=[]).\n",
      "[INFO 02-20 14:32:46] ax.modelbridge.dispatch_utils: Using Models.BOTORCH_MODULAR since there are more ordered parameters than there are categories for the unordered categorical parameters.\n",
      "[INFO 02-20 14:32:46] ax.modelbridge.dispatch_utils: Calculating the number of remaining initialization trials based on num_initialization_trials=None max_initialization_trials=None num_tunable_parameters=4 num_trials=None use_batch_trials=False\n",
      "[INFO 02-20 14:32:46] ax.modelbridge.dispatch_utils: calculated num_initialization_trials=8\n",
      "[INFO 02-20 14:32:46] ax.modelbridge.dispatch_utils: num_completed_initialization_trials=0 num_remaining_initialization_trials=8\n",
      "[INFO 02-20 14:32:46] ax.modelbridge.dispatch_utils: `verbose`, `disable_progbar`, and `jit_compile` are not yet supported when using `choose_generation_strategy` with ModularBoTorchModel, dropping these arguments.\n",
      "[INFO 02-20 14:32:46] ax.modelbridge.dispatch_utils: Using Bayesian Optimization generation strategy: GenerationStrategy(name='Sobol+BoTorch', steps=[Sobol for 8 trials, BoTorch for subsequent trials]). Iterations after 8 will take longer to generate due to model-fitting.\n",
      "[INFO 02-20 14:32:46] ax.service.ax_client: Generated new trial 0 with parameters {'lr': 0.428901, 'momentum': 0.507354, 'weight_decay': 0.702575, 'dampening': 0.050735, 'T_max': 100, 'eta_min': 0, 'last_epoch': -1}.\n"
     ]
    },
    {
     "name": "stdout",
     "output_type": "stream",
     "text": [
      "\t[Tuning] Creating the Ax client and experiment...\n",
      "\t[Tuning] Starting the Hyperparameters Optimization...\n",
      "\t[Tuning] Running trial 0\n"
     ]
    },
    {
     "ename": "ValueError",
     "evalue": "only one element tensors can be converted to Python scalars",
     "output_type": "error",
     "traceback": [
      "\u001B[1;31m---------------------------------------------------------------------------\u001B[0m",
      "\u001B[1;31mValueError\u001B[0m                                Traceback (most recent call last)",
      "Cell \u001B[1;32mIn[6], line 1\u001B[0m\n\u001B[1;32m----> 1\u001B[0m best_parameters \u001B[38;5;241m=\u001B[39m \u001B[43mho_fmn\u001B[49m\u001B[38;5;241;43m.\u001B[39;49m\u001B[43mtune\u001B[49m\u001B[43m(\u001B[49m\u001B[43m)\u001B[49m\n\u001B[0;32m      2\u001B[0m \u001B[38;5;28mprint\u001B[39m(\u001B[38;5;124mf\u001B[39m\u001B[38;5;124m\"\u001B[39m\u001B[38;5;124mBest parameters:\u001B[39m\u001B[38;5;130;01m\\n\u001B[39;00m\u001B[38;5;132;01m{\u001B[39;00mbest_parameters\u001B[38;5;132;01m}\u001B[39;00m\u001B[38;5;124m\"\u001B[39m)\n",
      "File \u001B[1;32mH:\\pycharm_projects\\HO-FMN\\src\\ho_fmn\\ho_fmn.py:171\u001B[0m, in \u001B[0;36mHOFMN.tune\u001B[1;34m(self)\u001B[0m\n\u001B[0;32m    168\u001B[0m     images, labels \u001B[38;5;241m=\u001B[39m images\u001B[38;5;241m.\u001B[39mto(\u001B[38;5;28mself\u001B[39m\u001B[38;5;241m.\u001B[39mdevice), labels\u001B[38;5;241m.\u001B[39mto(\u001B[38;5;28mself\u001B[39m\u001B[38;5;241m.\u001B[39mdevice)\n\u001B[0;32m    170\u001B[0m     parameters, trial_index \u001B[38;5;241m=\u001B[39m ax_client\u001B[38;5;241m.\u001B[39mget_next_trial()\n\u001B[1;32m--> 171\u001B[0m     \u001B[43max_client\u001B[49m\u001B[38;5;241;43m.\u001B[39;49m\u001B[43mcomplete_trial\u001B[49m\u001B[43m(\u001B[49m\n\u001B[0;32m    172\u001B[0m \u001B[43m        \u001B[49m\u001B[43mtrial_index\u001B[49m\u001B[38;5;241;43m=\u001B[39;49m\u001B[43mtrial_index\u001B[49m\u001B[43m,\u001B[49m\n\u001B[0;32m    173\u001B[0m \u001B[43m        \u001B[49m\u001B[43mraw_data\u001B[49m\u001B[38;5;241;43m=\u001B[39;49m\u001B[38;5;28;43mself\u001B[39;49m\u001B[38;5;241;43m.\u001B[39;49m\u001B[43m_evaluate\u001B[49m\u001B[43m(\u001B[49m\u001B[43mparameters\u001B[49m\u001B[43m,\u001B[49m\u001B[43m \u001B[49m\u001B[43mimages\u001B[49m\u001B[43m,\u001B[49m\u001B[43m \u001B[49m\u001B[43mlabels\u001B[49m\u001B[43m)\u001B[49m\n\u001B[0;32m    174\u001B[0m \u001B[43m    \u001B[49m\u001B[43m)\u001B[49m\n\u001B[0;32m    176\u001B[0m \u001B[38;5;28;01mif\u001B[39;00m \u001B[38;5;28mself\u001B[39m\u001B[38;5;241m.\u001B[39mverbose:\n\u001B[0;32m    177\u001B[0m     \u001B[38;5;28mprint\u001B[39m(\u001B[38;5;124m\"\u001B[39m\u001B[38;5;130;01m\\t\u001B[39;00m\u001B[38;5;124m[Tuning] Finished the Hyperparameters Optimization; printing the trials\u001B[39m\u001B[38;5;124m\"\u001B[39m\n\u001B[0;32m    178\u001B[0m           \u001B[38;5;124m\"\u001B[39m\u001B[38;5;124mlist and best parameters...\u001B[39m\u001B[38;5;124m\"\u001B[39m)\n",
      "File \u001B[1;32mH:\\pycharm_projects\\HO-FMN\\venv\\lib\\site-packages\\ax\\service\\ax_client.py:767\u001B[0m, in \u001B[0;36mAxClient.complete_trial\u001B[1;34m(self, trial_index, raw_data, metadata, sample_size)\u001B[0m\n\u001B[0;32m    765\u001B[0m \u001B[38;5;28;01mif\u001B[39;00m \u001B[38;5;129;01mnot\u001B[39;00m \u001B[38;5;28misinstance\u001B[39m(trial_index, \u001B[38;5;28mint\u001B[39m):\n\u001B[0;32m    766\u001B[0m     \u001B[38;5;28;01mraise\u001B[39;00m \u001B[38;5;167;01mValueError\u001B[39;00m(\u001B[38;5;124mf\u001B[39m\u001B[38;5;124m\"\u001B[39m\u001B[38;5;124mTrial index must be an int, got: \u001B[39m\u001B[38;5;132;01m{\u001B[39;00mtrial_index\u001B[38;5;132;01m}\u001B[39;00m\u001B[38;5;124m.\u001B[39m\u001B[38;5;124m\"\u001B[39m)\n\u001B[1;32m--> 767\u001B[0m data_update_repr \u001B[38;5;241m=\u001B[39m \u001B[38;5;28;43mself\u001B[39;49m\u001B[38;5;241;43m.\u001B[39;49m\u001B[43m_update_trial_with_raw_data\u001B[49m\u001B[43m(\u001B[49m\n\u001B[0;32m    768\u001B[0m \u001B[43m    \u001B[49m\u001B[43mtrial_index\u001B[49m\u001B[38;5;241;43m=\u001B[39;49m\u001B[43mtrial_index\u001B[49m\u001B[43m,\u001B[49m\n\u001B[0;32m    769\u001B[0m \u001B[43m    \u001B[49m\u001B[43mraw_data\u001B[49m\u001B[38;5;241;43m=\u001B[39;49m\u001B[43mraw_data\u001B[49m\u001B[43m,\u001B[49m\n\u001B[0;32m    770\u001B[0m \u001B[43m    \u001B[49m\u001B[43mmetadata\u001B[49m\u001B[38;5;241;43m=\u001B[39;49m\u001B[43mmetadata\u001B[49m\u001B[43m,\u001B[49m\n\u001B[0;32m    771\u001B[0m \u001B[43m    \u001B[49m\u001B[43msample_size\u001B[49m\u001B[38;5;241;43m=\u001B[39;49m\u001B[43msample_size\u001B[49m\u001B[43m,\u001B[49m\n\u001B[0;32m    772\u001B[0m \u001B[43m    \u001B[49m\u001B[43mcomplete_trial\u001B[49m\u001B[38;5;241;43m=\u001B[39;49m\u001B[38;5;28;43;01mTrue\u001B[39;49;00m\u001B[43m,\u001B[49m\n\u001B[0;32m    773\u001B[0m \u001B[43m    \u001B[49m\u001B[43mcombine_with_last_data\u001B[49m\u001B[38;5;241;43m=\u001B[39;49m\u001B[38;5;28;43;01mTrue\u001B[39;49;00m\u001B[43m,\u001B[49m\n\u001B[0;32m    774\u001B[0m \u001B[43m\u001B[49m\u001B[43m)\u001B[49m\n\u001B[0;32m    775\u001B[0m logger\u001B[38;5;241m.\u001B[39minfo(\u001B[38;5;124mf\u001B[39m\u001B[38;5;124m\"\u001B[39m\u001B[38;5;124mCompleted trial \u001B[39m\u001B[38;5;132;01m{\u001B[39;00mtrial_index\u001B[38;5;132;01m}\u001B[39;00m\u001B[38;5;124m with data: \u001B[39m\u001B[38;5;124m\"\u001B[39m \u001B[38;5;124mf\u001B[39m\u001B[38;5;124m\"\u001B[39m\u001B[38;5;132;01m{\u001B[39;00mdata_update_repr\u001B[38;5;132;01m}\u001B[39;00m\u001B[38;5;124m.\u001B[39m\u001B[38;5;124m\"\u001B[39m)\n",
      "File \u001B[1;32mH:\\pycharm_projects\\HO-FMN\\venv\\lib\\site-packages\\ax\\service\\ax_client.py:1621\u001B[0m, in \u001B[0;36mAxClient._update_trial_with_raw_data\u001B[1;34m(self, trial_index, raw_data, metadata, sample_size, complete_trial, combine_with_last_data)\u001B[0m\n\u001B[0;32m   1619\u001B[0m \u001B[38;5;66;03m# Format the data to save.\u001B[39;00m\n\u001B[0;32m   1620\u001B[0m trial \u001B[38;5;241m=\u001B[39m \u001B[38;5;28mself\u001B[39m\u001B[38;5;241m.\u001B[39mget_trial(trial_index)\n\u001B[1;32m-> 1621\u001B[0m update_info \u001B[38;5;241m=\u001B[39m \u001B[43mtrial\u001B[49m\u001B[38;5;241;43m.\u001B[39;49m\u001B[43mupdate_trial_data\u001B[49m\u001B[43m(\u001B[49m\n\u001B[0;32m   1622\u001B[0m \u001B[43m    \u001B[49m\u001B[43mraw_data\u001B[49m\u001B[38;5;241;43m=\u001B[39;49m\u001B[43mraw_data\u001B[49m\u001B[43m,\u001B[49m\n\u001B[0;32m   1623\u001B[0m \u001B[43m    \u001B[49m\u001B[43mmetadata\u001B[49m\u001B[38;5;241;43m=\u001B[39;49m\u001B[43mmetadata\u001B[49m\u001B[43m,\u001B[49m\n\u001B[0;32m   1624\u001B[0m \u001B[43m    \u001B[49m\u001B[43msample_size\u001B[49m\u001B[38;5;241;43m=\u001B[39;49m\u001B[43msample_size\u001B[49m\u001B[43m,\u001B[49m\n\u001B[0;32m   1625\u001B[0m \u001B[43m    \u001B[49m\u001B[43mcombine_with_last_data\u001B[49m\u001B[38;5;241;43m=\u001B[39;49m\u001B[43mcombine_with_last_data\u001B[49m\u001B[43m,\u001B[49m\n\u001B[0;32m   1626\u001B[0m \u001B[43m\u001B[49m\u001B[43m)\u001B[49m\n\u001B[0;32m   1628\u001B[0m \u001B[38;5;28;01mif\u001B[39;00m complete_trial:\n\u001B[0;32m   1629\u001B[0m     trial\u001B[38;5;241m.\u001B[39mmark_completed()\n",
      "File \u001B[1;32mH:\\pycharm_projects\\HO-FMN\\venv\\lib\\site-packages\\ax\\core\\trial.py:311\u001B[0m, in \u001B[0;36mTrial.update_trial_data\u001B[1;34m(self, raw_data, metadata, sample_size, combine_with_last_data)\u001B[0m\n\u001B[0;32m    308\u001B[0m sample_sizes \u001B[38;5;241m=\u001B[39m {arm_name: sample_size} \u001B[38;5;28;01mif\u001B[39;00m sample_size \u001B[38;5;28;01melse\u001B[39;00m {}\n\u001B[0;32m    309\u001B[0m raw_data_by_arm \u001B[38;5;241m=\u001B[39m {arm_name: raw_data}\n\u001B[1;32m--> 311\u001B[0m evaluations, data \u001B[38;5;241m=\u001B[39m \u001B[38;5;28;43mself\u001B[39;49m\u001B[38;5;241;43m.\u001B[39;49m\u001B[43m_make_evaluations_and_data\u001B[49m\u001B[43m(\u001B[49m\n\u001B[0;32m    312\u001B[0m \u001B[43m    \u001B[49m\u001B[43mraw_data\u001B[49m\u001B[38;5;241;43m=\u001B[39;49m\u001B[43mraw_data_by_arm\u001B[49m\u001B[43m,\u001B[49m\n\u001B[0;32m    313\u001B[0m \u001B[43m    \u001B[49m\u001B[43mmetadata\u001B[49m\u001B[38;5;241;43m=\u001B[39;49m\u001B[43mmetadata\u001B[49m\u001B[43m,\u001B[49m\n\u001B[0;32m    314\u001B[0m \u001B[43m    \u001B[49m\u001B[43msample_sizes\u001B[49m\u001B[38;5;241;43m=\u001B[39;49m\u001B[43msample_sizes\u001B[49m\u001B[43m,\u001B[49m\n\u001B[0;32m    315\u001B[0m \u001B[43m\u001B[49m\u001B[43m)\u001B[49m\n\u001B[0;32m    317\u001B[0m \u001B[38;5;28mself\u001B[39m\u001B[38;5;241m.\u001B[39mvalidate_data_for_trial(data\u001B[38;5;241m=\u001B[39mdata)\n\u001B[0;32m    318\u001B[0m \u001B[38;5;28mself\u001B[39m\u001B[38;5;241m.\u001B[39mupdate_run_metadata(metadata\u001B[38;5;241m=\u001B[39mmetadata \u001B[38;5;129;01mor\u001B[39;00m {})\n",
      "File \u001B[1;32mH:\\pycharm_projects\\HO-FMN\\venv\\lib\\site-packages\\ax\\core\\base_trial.py:839\u001B[0m, in \u001B[0;36mBaseTrial._make_evaluations_and_data\u001B[1;34m(self, raw_data, metadata, sample_sizes)\u001B[0m\n\u001B[0;32m    827\u001B[0m \u001B[38;5;250m\u001B[39m\u001B[38;5;124;03m\"\"\"Formats given raw data as Ax evaluations and `Data`.\u001B[39;00m\n\u001B[0;32m    828\u001B[0m \n\u001B[0;32m    829\u001B[0m \u001B[38;5;124;03mArgs:\u001B[39;00m\n\u001B[1;32m   (...)\u001B[0m\n\u001B[0;32m    834\u001B[0m \u001B[38;5;124;03m        name to sample size for batched trials. Optional.\u001B[39;00m\n\u001B[0;32m    835\u001B[0m \u001B[38;5;124;03m\"\"\"\u001B[39;00m\n\u001B[0;32m    837\u001B[0m metadata \u001B[38;5;241m=\u001B[39m metadata \u001B[38;5;28;01mif\u001B[39;00m metadata \u001B[38;5;129;01mis\u001B[39;00m \u001B[38;5;129;01mnot\u001B[39;00m \u001B[38;5;28;01mNone\u001B[39;00m \u001B[38;5;28;01melse\u001B[39;00m {}\n\u001B[1;32m--> 839\u001B[0m evaluations, data \u001B[38;5;241m=\u001B[39m \u001B[43mdata_and_evaluations_from_raw_data\u001B[49m\u001B[43m(\u001B[49m\n\u001B[0;32m    840\u001B[0m \u001B[43m    \u001B[49m\u001B[43mraw_data\u001B[49m\u001B[38;5;241;43m=\u001B[39;49m\u001B[43mraw_data\u001B[49m\u001B[43m,\u001B[49m\n\u001B[0;32m    841\u001B[0m \u001B[43m    \u001B[49m\u001B[43mmetric_names\u001B[49m\u001B[38;5;241;43m=\u001B[39;49m\u001B[38;5;28;43mlist\u001B[39;49m\u001B[43m(\u001B[49m\u001B[38;5;28;43mset\u001B[39;49m\u001B[43m(\u001B[49m\u001B[38;5;28;43mself\u001B[39;49m\u001B[38;5;241;43m.\u001B[39;49m\u001B[43mexperiment\u001B[49m\u001B[38;5;241;43m.\u001B[39;49m\u001B[43mmetrics\u001B[49m\u001B[43m)\u001B[49m\u001B[43m)\u001B[49m\u001B[43m,\u001B[49m\n\u001B[0;32m    842\u001B[0m \u001B[43m    \u001B[49m\u001B[43mtrial_index\u001B[49m\u001B[38;5;241;43m=\u001B[39;49m\u001B[38;5;28;43mself\u001B[39;49m\u001B[38;5;241;43m.\u001B[39;49m\u001B[43mindex\u001B[49m\u001B[43m,\u001B[49m\n\u001B[0;32m    843\u001B[0m \u001B[43m    \u001B[49m\u001B[43msample_sizes\u001B[49m\u001B[38;5;241;43m=\u001B[39;49m\u001B[43msample_sizes\u001B[49m\u001B[43m \u001B[49m\u001B[38;5;129;43;01mor\u001B[39;49;00m\u001B[43m \u001B[49m\u001B[43m{\u001B[49m\u001B[43m}\u001B[49m\u001B[43m,\u001B[49m\n\u001B[0;32m    844\u001B[0m \u001B[43m    \u001B[49m\u001B[43mdata_type\u001B[49m\u001B[38;5;241;43m=\u001B[39;49m\u001B[38;5;28;43mself\u001B[39;49m\u001B[38;5;241;43m.\u001B[39;49m\u001B[43mexperiment\u001B[49m\u001B[38;5;241;43m.\u001B[39;49m\u001B[43mdefault_data_type\u001B[49m\u001B[43m,\u001B[49m\n\u001B[0;32m    845\u001B[0m \u001B[43m    \u001B[49m\u001B[43mstart_time\u001B[49m\u001B[38;5;241;43m=\u001B[39;49m\u001B[43mmetadata\u001B[49m\u001B[38;5;241;43m.\u001B[39;49m\u001B[43mget\u001B[49m\u001B[43m(\u001B[49m\u001B[38;5;124;43m\"\u001B[39;49m\u001B[38;5;124;43mstart_time\u001B[39;49m\u001B[38;5;124;43m\"\u001B[39;49m\u001B[43m)\u001B[49m\u001B[43m,\u001B[49m\n\u001B[0;32m    846\u001B[0m \u001B[43m    \u001B[49m\u001B[43mend_time\u001B[49m\u001B[38;5;241;43m=\u001B[39;49m\u001B[43mmetadata\u001B[49m\u001B[38;5;241;43m.\u001B[39;49m\u001B[43mget\u001B[49m\u001B[43m(\u001B[49m\u001B[38;5;124;43m\"\u001B[39;49m\u001B[38;5;124;43mend_time\u001B[39;49m\u001B[38;5;124;43m\"\u001B[39;49m\u001B[43m)\u001B[49m\u001B[43m,\u001B[49m\n\u001B[0;32m    847\u001B[0m \u001B[43m\u001B[49m\u001B[43m)\u001B[49m\n\u001B[0;32m    848\u001B[0m \u001B[38;5;28;01mreturn\u001B[39;00m evaluations, data\n",
      "File \u001B[1;32mH:\\pycharm_projects\\HO-FMN\\venv\\lib\\site-packages\\ax\\core\\formatting_utils.py:145\u001B[0m, in \u001B[0;36mdata_and_evaluations_from_raw_data\u001B[1;34m(raw_data, metric_names, trial_index, sample_sizes, data_type, start_time, end_time)\u001B[0m\n\u001B[0;32m    136\u001B[0m         \u001B[38;5;28;01mraise\u001B[39;00m UserInputError(\n\u001B[0;32m    137\u001B[0m             \u001B[38;5;124m\"\u001B[39m\u001B[38;5;124mThe format of the `raw_data` is not compatible with `MapData`. \u001B[39m\u001B[38;5;124m\"\u001B[39m\n\u001B[0;32m    138\u001B[0m             \u001B[38;5;124m\"\u001B[39m\u001B[38;5;124mPossible cause: Did you set default data type to `MapData`, e.g., \u001B[39m\u001B[38;5;124m\"\u001B[39m\n\u001B[1;32m   (...)\u001B[0m\n\u001B[0;32m    142\u001B[0m             \u001B[38;5;124mf\u001B[39m\u001B[38;5;124m\"\u001B[39m\u001B[38;5;124mReceived: \u001B[39m\u001B[38;5;132;01m{\u001B[39;00mraw_data\u001B[38;5;132;01m=}\u001B[39;00m\u001B[38;5;124m\"\u001B[39m\n\u001B[0;32m    143\u001B[0m         )\n\u001B[0;32m    144\u001B[0m     \u001B[38;5;66;03m# All evaluations are no-fidelity evaluations.\u001B[39;00m\n\u001B[1;32m--> 145\u001B[0m     data \u001B[38;5;241m=\u001B[39m \u001B[43mData\u001B[49m\u001B[38;5;241;43m.\u001B[39;49m\u001B[43mfrom_evaluations\u001B[49m\u001B[43m(\u001B[49m\n\u001B[0;32m    146\u001B[0m \u001B[43m        \u001B[49m\u001B[43mevaluations\u001B[49m\u001B[38;5;241;43m=\u001B[39;49m\u001B[43mcast\u001B[49m\u001B[43m(\u001B[49m\u001B[43mDict\u001B[49m\u001B[43m[\u001B[49m\u001B[38;5;28;43mstr\u001B[39;49m\u001B[43m,\u001B[49m\u001B[43m \u001B[49m\u001B[43mTTrialEvaluation\u001B[49m\u001B[43m]\u001B[49m\u001B[43m,\u001B[49m\u001B[43m \u001B[49m\u001B[43mevaluations\u001B[49m\u001B[43m)\u001B[49m\u001B[43m,\u001B[49m\n\u001B[0;32m    147\u001B[0m \u001B[43m        \u001B[49m\u001B[43mtrial_index\u001B[49m\u001B[38;5;241;43m=\u001B[39;49m\u001B[43mtrial_index\u001B[49m\u001B[43m,\u001B[49m\n\u001B[0;32m    148\u001B[0m \u001B[43m        \u001B[49m\u001B[43msample_sizes\u001B[49m\u001B[38;5;241;43m=\u001B[39;49m\u001B[43msample_sizes\u001B[49m\u001B[43m,\u001B[49m\n\u001B[0;32m    149\u001B[0m \u001B[43m        \u001B[49m\u001B[43mstart_time\u001B[49m\u001B[38;5;241;43m=\u001B[39;49m\u001B[43mstart_time\u001B[49m\u001B[43m,\u001B[49m\n\u001B[0;32m    150\u001B[0m \u001B[43m        \u001B[49m\u001B[43mend_time\u001B[49m\u001B[38;5;241;43m=\u001B[39;49m\u001B[43mend_time\u001B[49m\u001B[43m,\u001B[49m\n\u001B[0;32m    151\u001B[0m \u001B[43m    \u001B[49m\u001B[43m)\u001B[49m\n\u001B[0;32m    152\u001B[0m \u001B[38;5;28;01melif\u001B[39;00m \u001B[38;5;28mall\u001B[39m(\u001B[38;5;28misinstance\u001B[39m(evaluations[x], \u001B[38;5;28mlist\u001B[39m) \u001B[38;5;28;01mfor\u001B[39;00m x \u001B[38;5;129;01min\u001B[39;00m evaluations\u001B[38;5;241m.\u001B[39mkeys()):\n\u001B[0;32m    153\u001B[0m     \u001B[38;5;28;01mif\u001B[39;00m data_type \u001B[38;5;129;01mis\u001B[39;00m DataType\u001B[38;5;241m.\u001B[39mDATA:\n",
      "File \u001B[1;32mH:\\pycharm_projects\\HO-FMN\\venv\\lib\\site-packages\\ax\\core\\data.py:323\u001B[0m, in \u001B[0;36mBaseData.from_evaluations\u001B[1;34m(cls, evaluations, trial_index, sample_sizes, start_time, end_time)\u001B[0m\n\u001B[0;32m    316\u001B[0m records \u001B[38;5;241m=\u001B[39m \u001B[38;5;28mcls\u001B[39m\u001B[38;5;241m.\u001B[39m_get_records(evaluations\u001B[38;5;241m=\u001B[39mevaluations, trial_index\u001B[38;5;241m=\u001B[39mtrial_index)\n\u001B[0;32m    317\u001B[0m records \u001B[38;5;241m=\u001B[39m \u001B[38;5;28mcls\u001B[39m\u001B[38;5;241m.\u001B[39m_add_cols_to_records(\n\u001B[0;32m    318\u001B[0m     records\u001B[38;5;241m=\u001B[39mrecords,\n\u001B[0;32m    319\u001B[0m     sample_sizes\u001B[38;5;241m=\u001B[39msample_sizes,\n\u001B[0;32m    320\u001B[0m     start_time\u001B[38;5;241m=\u001B[39mstart_time,\n\u001B[0;32m    321\u001B[0m     end_time\u001B[38;5;241m=\u001B[39mend_time,\n\u001B[0;32m    322\u001B[0m )\n\u001B[1;32m--> 323\u001B[0m \u001B[38;5;28;01mreturn\u001B[39;00m \u001B[38;5;28;43mcls\u001B[39;49m\u001B[43m(\u001B[49m\u001B[43mdf\u001B[49m\u001B[38;5;241;43m=\u001B[39;49m\u001B[43mpd\u001B[49m\u001B[38;5;241;43m.\u001B[39;49m\u001B[43mDataFrame\u001B[49m\u001B[43m(\u001B[49m\u001B[43mrecords\u001B[49m\u001B[43m)\u001B[49m\u001B[43m)\u001B[49m\n",
      "File \u001B[1;32mH:\\pycharm_projects\\HO-FMN\\venv\\lib\\site-packages\\ax\\core\\data.py:94\u001B[0m, in \u001B[0;36mBaseData.__init__\u001B[1;34m(self, df, description)\u001B[0m\n\u001B[0;32m     92\u001B[0m     \u001B[38;5;28;01mraise\u001B[39;00m \u001B[38;5;167;01mValueError\u001B[39;00m(\u001B[38;5;124mf\u001B[39m\u001B[38;5;124m\"\u001B[39m\u001B[38;5;124mColumns \u001B[39m\u001B[38;5;132;01m{\u001B[39;00m\u001B[38;5;28mlist\u001B[39m(extra_columns)\u001B[38;5;132;01m}\u001B[39;00m\u001B[38;5;124m are not supported.\u001B[39m\u001B[38;5;124m\"\u001B[39m)\n\u001B[0;32m     93\u001B[0m df \u001B[38;5;241m=\u001B[39m df\u001B[38;5;241m.\u001B[39mdropna(axis\u001B[38;5;241m=\u001B[39m\u001B[38;5;241m0\u001B[39m, how\u001B[38;5;241m=\u001B[39m\u001B[38;5;124m\"\u001B[39m\u001B[38;5;124mall\u001B[39m\u001B[38;5;124m\"\u001B[39m)\u001B[38;5;241m.\u001B[39mreset_index(drop\u001B[38;5;241m=\u001B[39m\u001B[38;5;28;01mTrue\u001B[39;00m)\n\u001B[1;32m---> 94\u001B[0m df \u001B[38;5;241m=\u001B[39m \u001B[38;5;28;43mself\u001B[39;49m\u001B[38;5;241;43m.\u001B[39;49m\u001B[43m_safecast_df\u001B[49m\u001B[43m(\u001B[49m\u001B[43mdf\u001B[49m\u001B[38;5;241;43m=\u001B[39;49m\u001B[43mdf\u001B[49m\u001B[43m)\u001B[49m\n\u001B[0;32m     96\u001B[0m \u001B[38;5;66;03m# Reorder the columns for easier viewing\u001B[39;00m\n\u001B[0;32m     97\u001B[0m col_order \u001B[38;5;241m=\u001B[39m [c \u001B[38;5;28;01mfor\u001B[39;00m c \u001B[38;5;129;01min\u001B[39;00m \u001B[38;5;28mself\u001B[39m\u001B[38;5;241m.\u001B[39mcolumn_data_types() \u001B[38;5;28;01mif\u001B[39;00m c \u001B[38;5;129;01min\u001B[39;00m df\u001B[38;5;241m.\u001B[39mcolumns]\n",
      "File \u001B[1;32mH:\\pycharm_projects\\HO-FMN\\venv\\lib\\site-packages\\ax\\core\\data.py:139\u001B[0m, in \u001B[0;36mBaseData._safecast_df\u001B[1;34m(cls, df, extra_column_types)\u001B[0m\n\u001B[0;32m    124\u001B[0m extra_column_types \u001B[38;5;241m=\u001B[39m extra_column_types \u001B[38;5;129;01mor\u001B[39;00m {}\n\u001B[0;32m    125\u001B[0m dtype \u001B[38;5;241m=\u001B[39m {\n\u001B[0;32m    126\u001B[0m     \u001B[38;5;66;03m# Pandas timestamp handlng is weird\u001B[39;00m\n\u001B[0;32m    127\u001B[0m     col: \u001B[38;5;124m\"\u001B[39m\u001B[38;5;124mdatetime64[ns]\u001B[39m\u001B[38;5;124m\"\u001B[39m \u001B[38;5;28;01mif\u001B[39;00m coltype \u001B[38;5;129;01mis\u001B[39;00m pd\u001B[38;5;241m.\u001B[39mTimestamp \u001B[38;5;28;01melse\u001B[39;00m coltype\n\u001B[1;32m   (...)\u001B[0m\n\u001B[0;32m    136\u001B[0m     \u001B[38;5;129;01mand\u001B[39;00m \u001B[38;5;129;01mnot\u001B[39;00m (coltype \u001B[38;5;129;01mis\u001B[39;00m Any)\n\u001B[0;32m    137\u001B[0m }\n\u001B[1;32m--> 139\u001B[0m \u001B[38;5;28;01mreturn\u001B[39;00m checked_cast(pd\u001B[38;5;241m.\u001B[39mDataFrame, \u001B[43mdf\u001B[49m\u001B[38;5;241;43m.\u001B[39;49m\u001B[43mastype\u001B[49m\u001B[43m(\u001B[49m\u001B[43mdtype\u001B[49m\u001B[38;5;241;43m=\u001B[39;49m\u001B[43mdtype\u001B[49m\u001B[43m)\u001B[49m)\n",
      "File \u001B[1;32mH:\\pycharm_projects\\HO-FMN\\venv\\lib\\site-packages\\pandas\\core\\generic.py:5799\u001B[0m, in \u001B[0;36mNDFrame.astype\u001B[1;34m(self, dtype, copy, errors)\u001B[0m\n\u001B[0;32m   5796\u001B[0m \u001B[38;5;28;01mfor\u001B[39;00m col_name, col \u001B[38;5;129;01min\u001B[39;00m \u001B[38;5;28mself\u001B[39m\u001B[38;5;241m.\u001B[39mitems():\n\u001B[0;32m   5797\u001B[0m     \u001B[38;5;28;01mif\u001B[39;00m col_name \u001B[38;5;129;01min\u001B[39;00m dtype:\n\u001B[0;32m   5798\u001B[0m         results\u001B[38;5;241m.\u001B[39mappend(\n\u001B[1;32m-> 5799\u001B[0m             \u001B[43mcol\u001B[49m\u001B[38;5;241;43m.\u001B[39;49m\u001B[43mastype\u001B[49m\u001B[43m(\u001B[49m\u001B[43mdtype\u001B[49m\u001B[38;5;241;43m=\u001B[39;49m\u001B[43mdtype\u001B[49m\u001B[43m[\u001B[49m\u001B[43mcol_name\u001B[49m\u001B[43m]\u001B[49m\u001B[43m,\u001B[49m\u001B[43m \u001B[49m\u001B[43mcopy\u001B[49m\u001B[38;5;241;43m=\u001B[39;49m\u001B[43mcopy\u001B[49m\u001B[43m,\u001B[49m\u001B[43m \u001B[49m\u001B[43merrors\u001B[49m\u001B[38;5;241;43m=\u001B[39;49m\u001B[43merrors\u001B[49m\u001B[43m)\u001B[49m\n\u001B[0;32m   5800\u001B[0m         )\n\u001B[0;32m   5801\u001B[0m     \u001B[38;5;28;01melse\u001B[39;00m:\n\u001B[0;32m   5802\u001B[0m         results\u001B[38;5;241m.\u001B[39mappend(col\u001B[38;5;241m.\u001B[39mcopy() \u001B[38;5;28;01mif\u001B[39;00m copy \u001B[38;5;28;01melse\u001B[39;00m col)\n",
      "File \u001B[1;32mH:\\pycharm_projects\\HO-FMN\\venv\\lib\\site-packages\\pandas\\core\\generic.py:5815\u001B[0m, in \u001B[0;36mNDFrame.astype\u001B[1;34m(self, dtype, copy, errors)\u001B[0m\n\u001B[0;32m   5808\u001B[0m     results \u001B[38;5;241m=\u001B[39m [\n\u001B[0;32m   5809\u001B[0m         \u001B[38;5;28mself\u001B[39m\u001B[38;5;241m.\u001B[39miloc[:, i]\u001B[38;5;241m.\u001B[39mastype(dtype, copy\u001B[38;5;241m=\u001B[39mcopy)\n\u001B[0;32m   5810\u001B[0m         \u001B[38;5;28;01mfor\u001B[39;00m i \u001B[38;5;129;01min\u001B[39;00m \u001B[38;5;28mrange\u001B[39m(\u001B[38;5;28mlen\u001B[39m(\u001B[38;5;28mself\u001B[39m\u001B[38;5;241m.\u001B[39mcolumns))\n\u001B[0;32m   5811\u001B[0m     ]\n\u001B[0;32m   5813\u001B[0m \u001B[38;5;28;01melse\u001B[39;00m:\n\u001B[0;32m   5814\u001B[0m     \u001B[38;5;66;03m# else, only a single dtype is given\u001B[39;00m\n\u001B[1;32m-> 5815\u001B[0m     new_data \u001B[38;5;241m=\u001B[39m \u001B[38;5;28;43mself\u001B[39;49m\u001B[38;5;241;43m.\u001B[39;49m\u001B[43m_mgr\u001B[49m\u001B[38;5;241;43m.\u001B[39;49m\u001B[43mastype\u001B[49m\u001B[43m(\u001B[49m\u001B[43mdtype\u001B[49m\u001B[38;5;241;43m=\u001B[39;49m\u001B[43mdtype\u001B[49m\u001B[43m,\u001B[49m\u001B[43m \u001B[49m\u001B[43mcopy\u001B[49m\u001B[38;5;241;43m=\u001B[39;49m\u001B[43mcopy\u001B[49m\u001B[43m,\u001B[49m\u001B[43m \u001B[49m\u001B[43merrors\u001B[49m\u001B[38;5;241;43m=\u001B[39;49m\u001B[43merrors\u001B[49m\u001B[43m)\u001B[49m\n\u001B[0;32m   5816\u001B[0m     \u001B[38;5;28;01mreturn\u001B[39;00m \u001B[38;5;28mself\u001B[39m\u001B[38;5;241m.\u001B[39m_constructor(new_data)\u001B[38;5;241m.\u001B[39m__finalize__(\u001B[38;5;28mself\u001B[39m, method\u001B[38;5;241m=\u001B[39m\u001B[38;5;124m\"\u001B[39m\u001B[38;5;124mastype\u001B[39m\u001B[38;5;124m\"\u001B[39m)\n\u001B[0;32m   5818\u001B[0m \u001B[38;5;66;03m# GH 33113: handle empty frame or series\u001B[39;00m\n",
      "File \u001B[1;32mH:\\pycharm_projects\\HO-FMN\\venv\\lib\\site-packages\\pandas\\core\\internals\\managers.py:418\u001B[0m, in \u001B[0;36mBaseBlockManager.astype\u001B[1;34m(self, dtype, copy, errors)\u001B[0m\n\u001B[0;32m    417\u001B[0m \u001B[38;5;28;01mdef\u001B[39;00m \u001B[38;5;21mastype\u001B[39m(\u001B[38;5;28mself\u001B[39m: T, dtype, copy: \u001B[38;5;28mbool\u001B[39m \u001B[38;5;241m=\u001B[39m \u001B[38;5;28;01mFalse\u001B[39;00m, errors: \u001B[38;5;28mstr\u001B[39m \u001B[38;5;241m=\u001B[39m \u001B[38;5;124m\"\u001B[39m\u001B[38;5;124mraise\u001B[39m\u001B[38;5;124m\"\u001B[39m) \u001B[38;5;241m-\u001B[39m\u001B[38;5;241m>\u001B[39m T:\n\u001B[1;32m--> 418\u001B[0m     \u001B[38;5;28;01mreturn\u001B[39;00m \u001B[38;5;28;43mself\u001B[39;49m\u001B[38;5;241;43m.\u001B[39;49m\u001B[43mapply\u001B[49m\u001B[43m(\u001B[49m\u001B[38;5;124;43m\"\u001B[39;49m\u001B[38;5;124;43mastype\u001B[39;49m\u001B[38;5;124;43m\"\u001B[39;49m\u001B[43m,\u001B[49m\u001B[43m \u001B[49m\u001B[43mdtype\u001B[49m\u001B[38;5;241;43m=\u001B[39;49m\u001B[43mdtype\u001B[49m\u001B[43m,\u001B[49m\u001B[43m \u001B[49m\u001B[43mcopy\u001B[49m\u001B[38;5;241;43m=\u001B[39;49m\u001B[43mcopy\u001B[49m\u001B[43m,\u001B[49m\u001B[43m \u001B[49m\u001B[43merrors\u001B[49m\u001B[38;5;241;43m=\u001B[39;49m\u001B[43merrors\u001B[49m\u001B[43m)\u001B[49m\n",
      "File \u001B[1;32mH:\\pycharm_projects\\HO-FMN\\venv\\lib\\site-packages\\pandas\\core\\internals\\managers.py:327\u001B[0m, in \u001B[0;36mBaseBlockManager.apply\u001B[1;34m(self, f, align_keys, ignore_failures, **kwargs)\u001B[0m\n\u001B[0;32m    325\u001B[0m         applied \u001B[38;5;241m=\u001B[39m b\u001B[38;5;241m.\u001B[39mapply(f, \u001B[38;5;241m*\u001B[39m\u001B[38;5;241m*\u001B[39mkwargs)\n\u001B[0;32m    326\u001B[0m     \u001B[38;5;28;01melse\u001B[39;00m:\n\u001B[1;32m--> 327\u001B[0m         applied \u001B[38;5;241m=\u001B[39m \u001B[38;5;28mgetattr\u001B[39m(b, f)(\u001B[38;5;241m*\u001B[39m\u001B[38;5;241m*\u001B[39mkwargs)\n\u001B[0;32m    328\u001B[0m \u001B[38;5;28;01mexcept\u001B[39;00m (\u001B[38;5;167;01mTypeError\u001B[39;00m, \u001B[38;5;167;01mNotImplementedError\u001B[39;00m):\n\u001B[0;32m    329\u001B[0m     \u001B[38;5;28;01mif\u001B[39;00m \u001B[38;5;129;01mnot\u001B[39;00m ignore_failures:\n",
      "File \u001B[1;32mH:\\pycharm_projects\\HO-FMN\\venv\\lib\\site-packages\\pandas\\core\\internals\\blocks.py:591\u001B[0m, in \u001B[0;36mBlock.astype\u001B[1;34m(self, dtype, copy, errors)\u001B[0m\n\u001B[0;32m    573\u001B[0m \u001B[38;5;250m\u001B[39m\u001B[38;5;124;03m\"\"\"\u001B[39;00m\n\u001B[0;32m    574\u001B[0m \u001B[38;5;124;03mCoerce to the new dtype.\u001B[39;00m\n\u001B[0;32m    575\u001B[0m \n\u001B[1;32m   (...)\u001B[0m\n\u001B[0;32m    587\u001B[0m \u001B[38;5;124;03mBlock\u001B[39;00m\n\u001B[0;32m    588\u001B[0m \u001B[38;5;124;03m\"\"\"\u001B[39;00m\n\u001B[0;32m    589\u001B[0m values \u001B[38;5;241m=\u001B[39m \u001B[38;5;28mself\u001B[39m\u001B[38;5;241m.\u001B[39mvalues\n\u001B[1;32m--> 591\u001B[0m new_values \u001B[38;5;241m=\u001B[39m \u001B[43mastype_array_safe\u001B[49m\u001B[43m(\u001B[49m\u001B[43mvalues\u001B[49m\u001B[43m,\u001B[49m\u001B[43m \u001B[49m\u001B[43mdtype\u001B[49m\u001B[43m,\u001B[49m\u001B[43m \u001B[49m\u001B[43mcopy\u001B[49m\u001B[38;5;241;43m=\u001B[39;49m\u001B[43mcopy\u001B[49m\u001B[43m,\u001B[49m\u001B[43m \u001B[49m\u001B[43merrors\u001B[49m\u001B[38;5;241;43m=\u001B[39;49m\u001B[43merrors\u001B[49m\u001B[43m)\u001B[49m\n\u001B[0;32m    593\u001B[0m new_values \u001B[38;5;241m=\u001B[39m maybe_coerce_values(new_values)\n\u001B[0;32m    594\u001B[0m newb \u001B[38;5;241m=\u001B[39m \u001B[38;5;28mself\u001B[39m\u001B[38;5;241m.\u001B[39mmake_block(new_values)\n",
      "File \u001B[1;32mH:\\pycharm_projects\\HO-FMN\\venv\\lib\\site-packages\\pandas\\core\\dtypes\\cast.py:1309\u001B[0m, in \u001B[0;36mastype_array_safe\u001B[1;34m(values, dtype, copy, errors)\u001B[0m\n\u001B[0;32m   1306\u001B[0m dtype \u001B[38;5;241m=\u001B[39m pandas_dtype(dtype)\n\u001B[0;32m   1308\u001B[0m \u001B[38;5;28;01mtry\u001B[39;00m:\n\u001B[1;32m-> 1309\u001B[0m     new_values \u001B[38;5;241m=\u001B[39m \u001B[43mastype_array\u001B[49m\u001B[43m(\u001B[49m\u001B[43mvalues\u001B[49m\u001B[43m,\u001B[49m\u001B[43m \u001B[49m\u001B[43mdtype\u001B[49m\u001B[43m,\u001B[49m\u001B[43m \u001B[49m\u001B[43mcopy\u001B[49m\u001B[38;5;241;43m=\u001B[39;49m\u001B[43mcopy\u001B[49m\u001B[43m)\u001B[49m\n\u001B[0;32m   1310\u001B[0m \u001B[38;5;28;01mexcept\u001B[39;00m (\u001B[38;5;167;01mValueError\u001B[39;00m, \u001B[38;5;167;01mTypeError\u001B[39;00m):\n\u001B[0;32m   1311\u001B[0m     \u001B[38;5;66;03m# e.g. astype_nansafe can fail on object-dtype of strings\u001B[39;00m\n\u001B[0;32m   1312\u001B[0m     \u001B[38;5;66;03m#  trying to convert to float\u001B[39;00m\n\u001B[0;32m   1313\u001B[0m     \u001B[38;5;28;01mif\u001B[39;00m errors \u001B[38;5;241m==\u001B[39m \u001B[38;5;124m\"\u001B[39m\u001B[38;5;124mignore\u001B[39m\u001B[38;5;124m\"\u001B[39m:\n",
      "File \u001B[1;32mH:\\pycharm_projects\\HO-FMN\\venv\\lib\\site-packages\\pandas\\core\\dtypes\\cast.py:1257\u001B[0m, in \u001B[0;36mastype_array\u001B[1;34m(values, dtype, copy)\u001B[0m\n\u001B[0;32m   1254\u001B[0m     values \u001B[38;5;241m=\u001B[39m values\u001B[38;5;241m.\u001B[39mastype(dtype, copy\u001B[38;5;241m=\u001B[39mcopy)\n\u001B[0;32m   1256\u001B[0m \u001B[38;5;28;01melse\u001B[39;00m:\n\u001B[1;32m-> 1257\u001B[0m     values \u001B[38;5;241m=\u001B[39m \u001B[43mastype_nansafe\u001B[49m\u001B[43m(\u001B[49m\u001B[43mvalues\u001B[49m\u001B[43m,\u001B[49m\u001B[43m \u001B[49m\u001B[43mdtype\u001B[49m\u001B[43m,\u001B[49m\u001B[43m \u001B[49m\u001B[43mcopy\u001B[49m\u001B[38;5;241;43m=\u001B[39;49m\u001B[43mcopy\u001B[49m\u001B[43m)\u001B[49m\n\u001B[0;32m   1259\u001B[0m \u001B[38;5;66;03m# in pandas we don't store numpy str dtypes, so convert to object\u001B[39;00m\n\u001B[0;32m   1260\u001B[0m \u001B[38;5;28;01mif\u001B[39;00m \u001B[38;5;28misinstance\u001B[39m(dtype, np\u001B[38;5;241m.\u001B[39mdtype) \u001B[38;5;129;01mand\u001B[39;00m \u001B[38;5;28missubclass\u001B[39m(values\u001B[38;5;241m.\u001B[39mdtype\u001B[38;5;241m.\u001B[39mtype, \u001B[38;5;28mstr\u001B[39m):\n",
      "File \u001B[1;32mH:\\pycharm_projects\\HO-FMN\\venv\\lib\\site-packages\\pandas\\core\\dtypes\\cast.py:1201\u001B[0m, in \u001B[0;36mastype_nansafe\u001B[1;34m(arr, dtype, copy, skipna)\u001B[0m\n\u001B[0;32m   1197\u001B[0m     \u001B[38;5;28;01mraise\u001B[39;00m \u001B[38;5;167;01mValueError\u001B[39;00m(msg)\n\u001B[0;32m   1199\u001B[0m \u001B[38;5;28;01mif\u001B[39;00m copy \u001B[38;5;129;01mor\u001B[39;00m is_object_dtype(arr\u001B[38;5;241m.\u001B[39mdtype) \u001B[38;5;129;01mor\u001B[39;00m is_object_dtype(dtype):\n\u001B[0;32m   1200\u001B[0m     \u001B[38;5;66;03m# Explicit copy, or required since NumPy can't view from / to object.\u001B[39;00m\n\u001B[1;32m-> 1201\u001B[0m     \u001B[38;5;28;01mreturn\u001B[39;00m \u001B[43marr\u001B[49m\u001B[38;5;241;43m.\u001B[39;49m\u001B[43mastype\u001B[49m\u001B[43m(\u001B[49m\u001B[43mdtype\u001B[49m\u001B[43m,\u001B[49m\u001B[43m \u001B[49m\u001B[43mcopy\u001B[49m\u001B[38;5;241;43m=\u001B[39;49m\u001B[38;5;28;43;01mTrue\u001B[39;49;00m\u001B[43m)\u001B[49m\n\u001B[0;32m   1203\u001B[0m \u001B[38;5;28;01mreturn\u001B[39;00m arr\u001B[38;5;241m.\u001B[39mastype(dtype, copy\u001B[38;5;241m=\u001B[39mcopy)\n",
      "\u001B[1;31mValueError\u001B[0m: only one element tensors can be converted to Python scalars"
     ]
    }
   ],
   "source": [
    "best_parameters = ho_fmn.tune()\n",
    "print(f\"Best parameters:\\n{best_parameters}\")"
   ],
   "metadata": {
    "collapsed": false,
    "ExecuteTime": {
     "end_time": "2024-02-20T13:34:01.433130300Z",
     "start_time": "2024-02-20T13:32:46.440757300Z"
    }
   },
   "execution_count": 6
  },
  {
   "cell_type": "markdown",
   "source": [
    "## Some insights on the HO process\n",
    "We can use some of the available functions from the Ax Tuning Framework to see the results of the Bayesian Optimization. We plot the interactable contour, on which we see the median and the standard error for the objective metric of the HO; in addition, we plot the slice, or the representative plot for the BO regressor using the learning rate as parameter."
   ],
   "metadata": {
    "collapsed": false
   }
  },
  {
   "cell_type": "code",
   "outputs": [],
   "source": [
    "from ax.plot.contour import interact_contour\n",
    "from ax.plot.slice import plot_slice\n",
    "from ax.utils.notebook.plotting import init_notebook_plotting, render\n",
    "\n",
    "init_notebook_plotting()\n",
    "\n",
    "model = ho_fmn.ax_client.generation_strategy.model\n",
    "render(interact_contour(model=model, metric_name=\"distance\"))\n",
    "render(plot_slice(model=model, param_name='lr', metric_name=\"distance\"))"
   ],
   "metadata": {
    "collapsed": false
   }
  },
  {
   "cell_type": "markdown",
   "metadata": {},
   "source": [
    "## Perform FMN attack using the best configuration\n",
    "From the previous tuning we got the best configuration of hyperparameters for the optmizer and scheduler.\n",
    "We run the attack using this configuration."
   ]
  },
  {
   "cell_type": "code",
   "execution_count": null,
   "metadata": {},
   "outputs": [],
   "source": [
    "tuning_bs = batch_size\n",
    "tuning_trials = trials\n",
    "\n",
    "batch_size = 125\n",
    "n_batches = 8   # TEST_SAMPLES = batch_size * n_batches (e.g., 1000 samples = 125*8)\n",
    "\n",
    "tuning_samples = tuning_bs*tuning_trials\n",
    "subset_indices = list(range(tuning_samples, tuning_samples + batch_size*n_batches))\n",
    "dataset_frac = torch.utils.data.Subset(dataset, subset_indices)\n",
    "\n",
    "print(f\"Samples: {len(subset_indices)}\")\n",
    "\n",
    "dataloader = DataLoader(\n",
    "    dataset=dataset_frac,\n",
    "    batch_size=batch_size,\n",
    "    shuffle=False\n",
    ")\n",
    "\n",
    "# Extract the optimizer and scheduler config from the best params dictionary\n",
    "optimizer_config, scheduler_config = ho_fmn.parametrization_to_configs(best_parameters)\n",
    "\n",
    "fmn = FMN(\n",
    "    model=model,\n",
    "    steps=steps,\n",
    "    loss=loss,\n",
    "    optimizer=optimizer,\n",
    "    scheduler=scheduler,\n",
    "    optimizer_config=optimizer_config,\n",
    "    scheduler_config=scheduler_config\n",
    ")\n",
    "\n",
    "# Testing on a single batch\n",
    "images, labels = next(iter(dataloader))\n",
    "\n",
    "best_adv = fmn.forward(images, labels)"
   ]
  },
  {
   "cell_type": "markdown",
   "source": [
    "## Show original and perturbed images"
   ],
   "metadata": {
    "collapsed": false
   }
  },
  {
   "cell_type": "code",
   "execution_count": null,
   "outputs": [],
   "source": [
    "preds = model(best_adv).argmax(1)\n",
    "\n",
    "img_shape = (3, 32, 32)\n",
    "show_image('HO-FMN', images, best_adv, preds, labels, n_display=8, img_shape=img_shape)"
   ],
   "metadata": {
    "collapsed": false
   }
  }
 ],
 "metadata": {
  "kernelspec": {
   "display_name": "Python 3 (ipykernel)",
   "language": "python",
   "name": "python3"
  },
  "language_info": {
   "codemirror_mode": {
    "name": "ipython",
    "version": 3
   },
   "file_extension": ".py",
   "mimetype": "text/x-python",
   "name": "python",
   "nbconvert_exporter": "python",
   "pygments_lexer": "ipython3",
   "version": "3.10.6"
  }
 },
 "nbformat": 4,
 "nbformat_minor": 1
}
